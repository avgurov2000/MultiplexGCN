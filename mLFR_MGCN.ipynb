{
 "cells": [
  {
   "cell_type": "code",
   "execution_count": 1,
   "id": "36eab0fd-89c5-4e34-916b-1736ce7b5db9",
   "metadata": {},
   "outputs": [],
   "source": [
    "import os, sys\n",
    "import random\n",
    "\n",
    "import pandas as pd\n",
    "import numpy as np\n",
    "\n",
    "import torch\n",
    "from torch import nn\n",
    "\n",
    "from tqdm.notebook import tqdm\n",
    "\n",
    "from typing import NamedTuple, Dict, List, Tuple\n",
    "from collections import defaultdict\n",
    "\n",
    "from torch_scatter import scatter_std, scatter_mean, scatter_add\n",
    "from MGCN import GCNMultiplex, CDTripletLoss\n",
    "\n",
    "from utils import from_edges_to_tensor\n",
    "from utils_graph import Network, read_net_from_txt, add_noise\n",
    "\n",
    "from sklearn.cluster import KMeans\n",
    "from sklearn.metrics import normalized_mutual_info_score\n",
    "from sklearn.manifold import TSNE\n",
    "\n",
    "import warnings\n",
    "warnings.filterwarnings(\"ignore\")\n",
    "\n",
    "import matplotlib.pyplot as plt\n",
    "plt.style.use('seaborn-deep')\n",
    "plt.rcParams['figure.figsize'] = (15, 10)"
   ]
  },
  {
   "cell_type": "code",
   "execution_count": 2,
   "id": "d90aa950-d727-4b76-bb58-2e2b68475d7c",
   "metadata": {},
   "outputs": [],
   "source": [
    "data_path_0 = \"Data\\\\mLFR\\\\mlp0\\\\\" \n",
    "data_path_2 = \"Data\\\\mLFR\\\\mlp2\\\\\" \n",
    "net_names = [\"net_\" + str(i) for i in range(50)]\n",
    "mu = [i/len(net_names) for i in range(len(net_names))] # mixing parameter\n",
    "\n",
    "manual_seed = 2023\n",
    "device = torch.device(\"cuda\") if torch.cuda.is_available() else torch.device(\"cpu\")"
   ]
  },
  {
   "cell_type": "code",
   "execution_count": 3,
   "id": "419a0390-be93-476e-9810-516bef06f8a1",
   "metadata": {},
   "outputs": [],
   "source": [
    "def set_seed(seed, device):\n",
    "    random.seed(seed)\n",
    "    np.random.seed(seed)\n",
    "    torch.manual_seed(seed)\n",
    "\n",
    "    if device == torch.device(\"cuda\"):\n",
    "        torch.cuda.manual_seed(seed)\n",
    "        torch.backends.cudnn.deterministic = True\n",
    "        torch.backends.cudnn.benchmark = True"
   ]
  },
  {
   "cell_type": "markdown",
   "id": "5ea6dc20-c097-44a3-ab5b-7fcc4cd41fab",
   "metadata": {},
   "source": [
    "### Check data"
   ]
  },
  {
   "cell_type": "code",
   "execution_count": 4,
   "id": "fda52c20-79af-402d-95fe-9e858be7f3a8",
   "metadata": {},
   "outputs": [
    {
     "data": {
      "application/vnd.jupyter.widget-view+json": {
       "model_id": "e0ea34f438cf4010ac6841c647c9bcd7",
       "version_major": 2,
       "version_minor": 0
      },
      "text/plain": [
       "  0%|          | 0/50 [00:00<?, ?it/s]"
      ]
     },
     "metadata": {},
     "output_type": "display_data"
    }
   ],
   "source": [
    "#check nets, names, and paths\n",
    "for name in tqdm(net_names):\n",
    "    \n",
    "    network_0 = read_net_from_txt(data_path_0, name)\n",
    "    network_2 = read_net_from_txt(data_path_2, name)\n",
    "    \n",
    "    network_edges_0 = list(map(lambda x: from_edges_to_tensor(x), network_0.network))\n",
    "    network_edges_2 = list(map(lambda x: from_edges_to_tensor(x), network_2.network))\n",
    "    \n",
    "    communitie_tensor_0 = torch.tensor(list(network_0.communities.items())).T \n",
    "    communitie_tensor_0 = communitie_tensor_0 - torch.min(communitie_tensor_0, -1, keepdims=True)[0] \n",
    "    \n",
    "    communitie_tensor_2 = torch.tensor(list(network_2.communities.items())).T \n",
    "    communitie_tensor_2 = communitie_tensor_2 - torch.min(communitie_tensor_2, -1, keepdims=True)[0] \n",
    "    \n",
    "del network_0, network_2, network_edges_0, network_edges_2, communitie_tensor_0, communitie_tensor_2"
   ]
  },
  {
   "cell_type": "markdown",
   "id": "44f7a27b-c55f-4694-b35d-70395adee90c",
   "metadata": {},
   "source": [
    "### MGCN-based Model"
   ]
  },
  {
   "cell_type": "code",
   "execution_count": 5,
   "id": "e17e5b50-d711-4347-9194-e2f7ac8eedf1",
   "metadata": {},
   "outputs": [
    {
     "name": "stdout",
     "output_type": "stream",
     "text": [
      "Count of model parameters: 112320\n"
     ]
    }
   ],
   "source": [
    "gcn1 = GCNMultiplex(\n",
    "    in_features = 5,  \n",
    "    out_features = 64,\n",
    "    num_layers = 3, \n",
    "    activation = nn.ReLU(),\n",
    "    dropout_prob = 0.6, \n",
    "    bias = True,\n",
    "    add_self_loops = True,\n",
    "    add_interlayer_loops = True\n",
    ")\n",
    "\n",
    "gcn1_res = GCNMultiplex(\n",
    "    in_features = 64,  \n",
    "    out_features = 64,\n",
    "    num_layers = 3, \n",
    "    activation = nn.ReLU(), \n",
    "    dropout_prob = 0.6, \n",
    "    bias = True,\n",
    "    add_self_loops = True,\n",
    "    add_interlayer_loops = True\n",
    ")\n",
    "\n",
    "gcn2 = GCNMultiplex(\n",
    "    in_features = 64,  \n",
    "    out_features = 128,\n",
    "    num_layers = 3, \n",
    "    activation = nn.ReLU(),\n",
    "    dropout_prob = 0.4, \n",
    "    bias = True,\n",
    "    add_self_loops = True,\n",
    "    add_interlayer_loops = True\n",
    ")\n",
    "\n",
    "class Model(nn.Module):\n",
    "    \n",
    "    def __init__(self):\n",
    "        \n",
    "        super().__init__()\n",
    "        self.l1 = gcn1\n",
    "        self.l1_res = gcn1_res\n",
    "        self.l2 = gcn2\n",
    "        \n",
    "        \n",
    "        self.act = nn.Tanh()\n",
    "        self.act_finish = nn.Softmax(-1)\n",
    "        \n",
    "    def forward(self, x):\n",
    "        nodes, edges = x\n",
    "        out1 = self.act(self.l1((nodes, edges)))\n",
    "        out1_res = self.act(self.l1_res((out1, edges))+out1)\n",
    "        out2 = self.act(self.l2((out1_res, edges)))\n",
    "        \n",
    "        return out2\n",
    "    \n",
    "    def init_params(self):\n",
    "        for child in self.children():\n",
    "            if hasattr(child, \"init_params\"):\n",
    "                child.init_params()\n",
    "        \n",
    "        \n",
    "model = Model()     \n",
    "model.to(device)\n",
    "\n",
    "loss_fn = CDTripletLoss(p=2, std=0.5, alpha=1)\n",
    "loss_fn.to(device)\n",
    "\n",
    "optimizer = torch.optim.Adam(model.parameters())\n",
    "print(f\"Count of model parameters: {np.sum([np.prod(i.shape) for i in model.parameters()])}\")"
   ]
  },
  {
   "cell_type": "code",
   "execution_count": 42,
   "id": "f73af84e-db11-454a-bb6d-57341eeca2db",
   "metadata": {},
   "outputs": [],
   "source": [
    "#train / test functions\n",
    "def train(path, name, num_epoch=1000, device=device):\n",
    "    \n",
    "    network = read_net_from_txt(path, name)\n",
    "    network_edges = list(map(lambda x: from_edges_to_tensor(x), network.network))\n",
    "    communitie_tensor = torch.tensor(list(network.communities.items())).T \n",
    "    communitie_tensor = communitie_tensor - torch.min(communitie_tensor, -1, keepdims=True)[0] \n",
    "    nodes_representation = torch.randn((1, communitie_tensor.shape[-1], 5))\n",
    "\n",
    "    data = (nodes_representation.to(device),  [n.to(device) for n in network_edges])\n",
    "    gt = communitie_tensor.to(device)\n",
    "    \n",
    "    for epoch in range(num_epoch):\n",
    "        out = model(data)\n",
    "        optimizer.zero_grad()\n",
    "        loss = loss_fn(out, gt)\n",
    "\n",
    "        loss_val = loss[0] + loss[1] + loss[2] \n",
    "\n",
    "        loss_val.backward()\n",
    "        optimizer.step()\n",
    "        \n",
    "@torch.no_grad()        \n",
    "def evaluate(path, name, device=device):\n",
    "    \n",
    "    network = read_net_from_txt(path, name)\n",
    "    network_edges = list(map(lambda x: from_edges_to_tensor(x), network.network))\n",
    "    communitie_tensor = torch.tensor(list(network.communities.items())).T \n",
    "    communitie_tensor = communitie_tensor - torch.min(communitie_tensor, -1, keepdims=True)[0] \n",
    "    nodes_representation = torch.randn((1, communitie_tensor.shape[-1], 5))\n",
    "\n",
    "    data = (nodes_representation.to(device),  [n.to(device) for n in network_edges])\n",
    "    gt = communitie_tensor.to(device)\n",
    "    \n",
    "    out_train = model(data)\n",
    "\n",
    "    comm_gt = communitie_tensor[1].numpy()\n",
    "    kmeans = KMeans(n_clusters=len(np.unique(comm_gt)), max_iter=500, algorithm=\"elkan\",  random_state=0).fit(out_train.detach().cpu().numpy().squeeze())\n",
    "    comm_knn = kmeans.predict(out_train.detach().cpu().numpy().squeeze())\n",
    "    nmi = normalized_mutual_info_score(comm_gt, comm_knn)\n",
    "    \n",
    "    return nmi"
   ]
  },
  {
   "cell_type": "markdown",
   "id": "b8213f49-c490-4f99-9b16-6b2d0d3093c1",
   "metadata": {
    "tags": []
   },
   "source": [
    "### Exp. I: Train model on each network and calculate train NMI"
   ]
  },
  {
   "cell_type": "code",
   "execution_count": 20,
   "id": "a1f49d03-397e-419b-b148-248cd9eccf91",
   "metadata": {},
   "outputs": [],
   "source": [
    "def train_evaluate(path, names, device=device):\n",
    "    \n",
    "    pd_result = pd.DataFrame()\n",
    "    nmi_result = []\n",
    "    \n",
    "    for name in tqdm(names):\n",
    "        \n",
    "        set_seed(manual_seed, device)\n",
    "        model.init_params()\n",
    "        \n",
    "        train(path, name, num_epoch=1000, device=device)\n",
    "        nmi = evaluate(path, name, device=device)\n",
    "        \n",
    "        nmi_result.append(nmi)\n",
    "        torch.cuda.empty_cache()\n",
    "        \n",
    "    pd_result[\"net\"] = names\n",
    "    pd_result[\"nmi\"] = nmi_result\n",
    "    \n",
    "    return pd_result\n",
    "    "
   ]
  },
  {
   "cell_type": "code",
   "execution_count": 8,
   "id": "34a02114-983d-4c85-b65e-83cccbf76819",
   "metadata": {},
   "outputs": [
    {
     "data": {
      "application/vnd.jupyter.widget-view+json": {
       "model_id": "b0528405b8e94c6e9497f928fb159413",
       "version_major": 2,
       "version_minor": 0
      },
      "text/plain": [
       "  0%|          | 0/50 [00:00<?, ?it/s]"
      ]
     },
     "metadata": {},
     "output_type": "display_data"
    }
   ],
   "source": [
    "#nets with 0-interlayer swap chance\n",
    "result_0 = train_evaluate(data_path_0, net_names)\n",
    "#result_0.to_csv(r\"./results/result_0.csv\", index=False)\n",
    "result_0_linear = pd.read_csv(r\"./results/result_0_linear.csv\")\n"
   ]
  },
  {
   "cell_type": "code",
   "execution_count": 9,
   "id": "e67cfee0-05b9-49c3-bccc-b55cdc9c3831",
   "metadata": {},
   "outputs": [
    {
     "data": {
      "application/vnd.jupyter.widget-view+json": {
       "model_id": "9ae35857e4244949bb65ee4fe7ac1e82",
       "version_major": 2,
       "version_minor": 0
      },
      "text/plain": [
       "  0%|          | 0/50 [00:00<?, ?it/s]"
      ]
     },
     "metadata": {},
     "output_type": "display_data"
    }
   ],
   "source": [
    "#nets with 0.2-interlayer swap chance\n",
    "result_2 = train_evaluate(data_path_2, net_names)\n",
    "#result_2.to_csv(r\"./results/result_2.csv\", index=False)\n",
    "result_2_linear = pd.read_csv(r\"./results/result_02_linear.csv\")"
   ]
  },
  {
   "cell_type": "code",
   "execution_count": 89,
   "id": "e7ef75dc-f043-4796-abb4-90f52959e10d",
   "metadata": {},
   "outputs": [
    {
     "data": {
      "image/png": "[encoded data removed]",
      "text/plain": [
       "<Figure size 1080x720 with 1 Axes>"
      ]
     },
     "metadata": {
      "needs_background": "light"
     },
     "output_type": "display_data"
    }
   ],
   "source": [
    "ax1 = plt.subplot()\n",
    "threshold_idx = np.argmax(np.asarray(result_0.nmi) - np.asarray(result_0_linear.nmi_max) >= 0)\n",
    "threshold_mu = mu[threshold_idx]\n",
    "threshold_nmi = np.asarray(result_0.nmi)[threshold_idx]\n",
    "\n",
    "ax1.plot(mu, result_0.nmi, color='blue', linewidth= 2.5, label=r\"${MGCN}$\")\n",
    "ax1.plot(mu, result_0_linear.nmi_max, color='green', linewidth= 2.5, label=r\"${Linear}$\")\n",
    "\n",
    "ax1.plot(mu[:threshold_idx+1], [threshold_nmi for i in range(threshold_idx+1)], color=\"red\", linewidth= .5, linestyle='dashdot')\n",
    "ax1.axvline(threshold_mu, ymin = 0.05, ymax = threshold_nmi, color = 'red', linewidth= .5, linestyle='dashdot')\n",
    "ax1.scatter(threshold_mu, threshold_nmi, color = 'red', s=150)\n",
    "\n",
    "ax1.legend(loc='upper right', prop={'size': 30})\n",
    "ax1.set_xlim(-0.05, 1.05)\n",
    "ax1.set_ylim(-0.05, 1.05)\n",
    "ax1.set_yticks([0, 0.2, 0.4, 0.6, 0.8, 1])\n",
    "ax1.set_xlabel(r'$\\mu$', fontsize=30)\n",
    "ax1.set_ylabel(r'$NMI$', fontsize=30)\n",
    "ax1.tick_params(axis=\"x\", labelsize=30)\n",
    "ax1.tick_params(axis=\"y\", labelsize=30)\n",
    "\n",
    "#plt.savefig('./results/NMI_0.png', dpi=300)"
   ]
  },
  {
   "cell_type": "code",
   "execution_count": 90,
   "id": "0f3ec1b1-dcca-4cdf-a9db-0f64777bc3fb",
   "metadata": {},
   "outputs": [
    {
     "data": {
      "image/png": "[encoded data removed]",
      "text/plain": [
       "<Figure size 1080x720 with 1 Axes>"
      ]
     },
     "metadata": {
      "needs_background": "light"
     },
     "output_type": "display_data"
    }
   ],
   "source": [
    "ax1 = plt.subplot()\n",
    "threshold_idx = np.argmax(np.asarray(result_2.nmi) - np.asarray(result_2_linear.nmi_max) >= 0)\n",
    "threshold_mu = mu[threshold_idx]\n",
    "threshold_nmi = np.asarray(result_2.nmi)[threshold_idx]\n",
    "\n",
    "ax1.plot(mu, result_2.nmi, color='blue', linewidth= 2.5, label=r\"${MGCN}$\")\n",
    "ax1.plot(mu, result_2_linear.nmi_max, color='green', linewidth= 2.5, label=r\"${Linear}$\")\n",
    "\n",
    "ax1.plot(mu[:threshold_idx+1], [threshold_nmi for i in range(threshold_idx+1)], color=\"red\", linewidth= .5, linestyle='dashdot')\n",
    "ax1.axvline(threshold_mu, ymin = 0.05, ymax = threshold_nmi, color = 'red', linewidth= .5, linestyle='dashdot')\n",
    "ax1.scatter(threshold_mu, threshold_nmi, color = 'red', s=150)\n",
    "\n",
    "ax1.legend(loc='upper right', prop={'size': 30})\n",
    "ax1.set_xlim(-0.05, 1.05)\n",
    "ax1.set_ylim(-0.05, 1.05)\n",
    "ax1.set_yticks([0, 0.2, 0.4, 0.6, 0.8, 1])\n",
    "ax1.set_xlabel(r'$\\mu$', fontsize=30)\n",
    "ax1.set_ylabel(r'$NMI$', fontsize=30)\n",
    "ax1.tick_params(axis=\"x\", labelsize=30)\n",
    "ax1.tick_params(axis=\"y\", labelsize=30)\n",
    "\n",
    "#plt.savefig('./results/NMI_2.png', dpi=300)"
   ]
  },
  {
   "cell_type": "markdown",
   "id": "a5db8965-a255-4b56-b208-138c56b6e4b6",
   "metadata": {
    "tags": []
   },
   "source": [
    "### Exp. II: Train model on one network and calculate test NMI on another networks"
   ]
  },
  {
   "cell_type": "code",
   "execution_count": 128,
   "id": "82084685-6c61-4613-a92d-c7e7d7941971",
   "metadata": {},
   "outputs": [],
   "source": [
    "def train_test(path, names, device=device):\n",
    "    \n",
    "    pd_result = pd.DataFrame()\n",
    "    names_train = []\n",
    "    names_test = []\n",
    "    nmi_result = []\n",
    "    \n",
    "    for name_train in tqdm(names):\n",
    "        \n",
    "        set_seed(manual_seed, device)\n",
    "        model.init_params()\n",
    "        \n",
    "        train(path, name_train, num_epoch=1000, device=device)\n",
    "        \n",
    "        for name_test in tqdm(names):\n",
    "            \n",
    "            nmi = evaluate(path, name_test, device=device)\n",
    "            \n",
    "            nmi_result.append(nmi)\n",
    "            names_train.append(name_train)\n",
    "            names_test.append(name_test)\n",
    "            \n",
    "        torch.cuda.empty_cache()\n",
    "        \n",
    "    pd_result[\"net_train\"] = names_train\n",
    "    pd_result[\"net_test\"] = names_test\n",
    "    pd_result[\"nmi\"] = nmi_result\n",
    "    \n",
    "    return pd_result"
   ]
  },
  {
   "cell_type": "code",
   "execution_count": 129,
   "id": "2e456d19-91fd-42f2-8966-87d127fe14fd",
   "metadata": {},
   "outputs": [
    {
     "data": {
      "application/vnd.jupyter.widget-view+json": {
       "model_id": "7aeda72833d2414185afd7bc314cf3ff",
       "version_major": 2,
       "version_minor": 0
      },
      "text/plain": [
       "  0%|          | 0/5 [00:00<?, ?it/s]"
      ]
     },
     "metadata": {},
     "output_type": "display_data"
    },
    {
     "data": {
      "application/vnd.jupyter.widget-view+json": {
       "model_id": "d0f2b87684f540868fca6bbf0f166f53",
       "version_major": 2,
       "version_minor": 0
      },
      "text/plain": [
       "  0%|          | 0/5 [00:00<?, ?it/s]"
      ]
     },
     "metadata": {},
     "output_type": "display_data"
    },
    {
     "data": {
      "application/vnd.jupyter.widget-view+json": {
       "model_id": "9a6e473dc1be4db88556d116d6e738e8",
       "version_major": 2,
       "version_minor": 0
      },
      "text/plain": [
       "  0%|          | 0/5 [00:00<?, ?it/s]"
      ]
     },
     "metadata": {},
     "output_type": "display_data"
    },
    {
     "data": {
      "application/vnd.jupyter.widget-view+json": {
       "model_id": "eca6bdbb8e014dfc8582abdc267be491",
       "version_major": 2,
       "version_minor": 0
      },
      "text/plain": [
       "  0%|          | 0/5 [00:00<?, ?it/s]"
      ]
     },
     "metadata": {},
     "output_type": "display_data"
    },
    {
     "data": {
      "application/vnd.jupyter.widget-view+json": {
       "model_id": "ac993190778b44e992da243d41067bdc",
       "version_major": 2,
       "version_minor": 0
      },
      "text/plain": [
       "  0%|          | 0/5 [00:00<?, ?it/s]"
      ]
     },
     "metadata": {},
     "output_type": "display_data"
    },
    {
     "data": {
      "application/vnd.jupyter.widget-view+json": {
       "model_id": "1204cd3ee79b4b0ebc0d140d085d68dc",
       "version_major": 2,
       "version_minor": 0
      },
      "text/plain": [
       "  0%|          | 0/5 [00:00<?, ?it/s]"
      ]
     },
     "metadata": {},
     "output_type": "display_data"
    }
   ],
   "source": [
    "test_0 = train_test(data_path_0, net_names[::10])\n",
    "#test_0.to_csv(r\"./results/test_0.csv\", index=False)"
   ]
  },
  {
   "cell_type": "code",
   "execution_count": 137,
   "id": "0e4123db-6ab9-4e96-bb41-216dfc7175cc",
   "metadata": {},
   "outputs": [
    {
     "data": {
      "application/vnd.jupyter.widget-view+json": {
       "model_id": "eb51171b02f24c99b348931bc9b6ed4f",
       "version_major": 2,
       "version_minor": 0
      },
      "text/plain": [
       "  0%|          | 0/5 [00:00<?, ?it/s]"
      ]
     },
     "metadata": {},
     "output_type": "display_data"
    },
    {
     "data": {
      "application/vnd.jupyter.widget-view+json": {
       "model_id": "1c21b73dae42489cb6c9df1e0e2f1ca0",
       "version_major": 2,
       "version_minor": 0
      },
      "text/plain": [
       "  0%|          | 0/5 [00:00<?, ?it/s]"
      ]
     },
     "metadata": {},
     "output_type": "display_data"
    },
    {
     "data": {
      "application/vnd.jupyter.widget-view+json": {
       "model_id": "4670701657ba4f589578d71b7161f64a",
       "version_major": 2,
       "version_minor": 0
      },
      "text/plain": [
       "  0%|          | 0/5 [00:00<?, ?it/s]"
      ]
     },
     "metadata": {},
     "output_type": "display_data"
    },
    {
     "data": {
      "application/vnd.jupyter.widget-view+json": {
       "model_id": "c9b363b6aea54116959b12fc88e0cb8e",
       "version_major": 2,
       "version_minor": 0
      },
      "text/plain": [
       "  0%|          | 0/5 [00:00<?, ?it/s]"
      ]
     },
     "metadata": {},
     "output_type": "display_data"
    },
    {
     "data": {
      "application/vnd.jupyter.widget-view+json": {
       "model_id": "68bea81c88b942fa9e5abbafb981cbf5",
       "version_major": 2,
       "version_minor": 0
      },
      "text/plain": [
       "  0%|          | 0/5 [00:00<?, ?it/s]"
      ]
     },
     "metadata": {},
     "output_type": "display_data"
    },
    {
     "data": {
      "application/vnd.jupyter.widget-view+json": {
       "model_id": "29e92fe4c0f34568a9f065cc73c96c65",
       "version_major": 2,
       "version_minor": 0
      },
      "text/plain": [
       "  0%|          | 0/5 [00:00<?, ?it/s]"
      ]
     },
     "metadata": {},
     "output_type": "display_data"
    }
   ],
   "source": [
    "test_2 = train_test(data_path_2, net_names[::10])\n",
    "#test_2.to_csv(r\"./results/test_2.csv\", index=False)"
   ]
  },
  {
   "cell_type": "code",
   "execution_count": 149,
   "id": "4d73e417-02b4-4804-a4e6-652467092440",
   "metadata": {},
   "outputs": [
    {
     "data": {
      "text/html": [
       "<style  type=\"text/css\" >\n",
       "#T_88b7ab94_92cc_11ed_a48b_d45d646c3535row0_col0,#T_88b7ab94_92cc_11ed_a48b_d45d646c3535row1_col1,#T_88b7ab94_92cc_11ed_a48b_d45d646c3535row2_col3,#T_88b7ab94_92cc_11ed_a48b_d45d646c3535row3_col3,#T_88b7ab94_92cc_11ed_a48b_d45d646c3535row4_col3{\n",
       "            background-color:  lightgreen;\n",
       "        }</style><table id=\"T_88b7ab94_92cc_11ed_a48b_d45d646c3535\" ><thead>    <tr>        <th class=\"index_name level0\" >net_train</th>        <th class=\"col_heading level0 col0\" >net_0</th>        <th class=\"col_heading level0 col1\" >net_10</th>        <th class=\"col_heading level0 col2\" >net_20</th>        <th class=\"col_heading level0 col3\" >net_30</th>        <th class=\"col_heading level0 col4\" >net_40</th>    </tr>    <tr>        <th class=\"index_name level0\" >net_test</th>        <th class=\"blank\" ></th>        <th class=\"blank\" ></th>        <th class=\"blank\" ></th>        <th class=\"blank\" ></th>        <th class=\"blank\" ></th>    </tr></thead><tbody>\n",
       "                <tr>\n",
       "                        <th id=\"T_88b7ab94_92cc_11ed_a48b_d45d646c3535level0_row0\" class=\"row_heading level0 row0\" >net_0</th>\n",
       "                        <td id=\"T_88b7ab94_92cc_11ed_a48b_d45d646c3535row0_col0\" class=\"data row0 col0\" >0.874111</td>\n",
       "                        <td id=\"T_88b7ab94_92cc_11ed_a48b_d45d646c3535row0_col1\" class=\"data row0 col1\" >0.857649</td>\n",
       "                        <td id=\"T_88b7ab94_92cc_11ed_a48b_d45d646c3535row0_col2\" class=\"data row0 col2\" >0.852505</td>\n",
       "                        <td id=\"T_88b7ab94_92cc_11ed_a48b_d45d646c3535row0_col3\" class=\"data row0 col3\" >0.797820</td>\n",
       "                        <td id=\"T_88b7ab94_92cc_11ed_a48b_d45d646c3535row0_col4\" class=\"data row0 col4\" >0.689794</td>\n",
       "            </tr>\n",
       "            <tr>\n",
       "                        <th id=\"T_88b7ab94_92cc_11ed_a48b_d45d646c3535level0_row1\" class=\"row_heading level0 row1\" >net_10</th>\n",
       "                        <td id=\"T_88b7ab94_92cc_11ed_a48b_d45d646c3535row1_col0\" class=\"data row1 col0\" >0.787292</td>\n",
       "                        <td id=\"T_88b7ab94_92cc_11ed_a48b_d45d646c3535row1_col1\" class=\"data row1 col1\" >0.825127</td>\n",
       "                        <td id=\"T_88b7ab94_92cc_11ed_a48b_d45d646c3535row1_col2\" class=\"data row1 col2\" >0.816154</td>\n",
       "                        <td id=\"T_88b7ab94_92cc_11ed_a48b_d45d646c3535row1_col3\" class=\"data row1 col3\" >0.779778</td>\n",
       "                        <td id=\"T_88b7ab94_92cc_11ed_a48b_d45d646c3535row1_col4\" class=\"data row1 col4\" >0.679086</td>\n",
       "            </tr>\n",
       "            <tr>\n",
       "                        <th id=\"T_88b7ab94_92cc_11ed_a48b_d45d646c3535level0_row2\" class=\"row_heading level0 row2\" >net_20</th>\n",
       "                        <td id=\"T_88b7ab94_92cc_11ed_a48b_d45d646c3535row2_col0\" class=\"data row2 col0\" >0.658371</td>\n",
       "                        <td id=\"T_88b7ab94_92cc_11ed_a48b_d45d646c3535row2_col1\" class=\"data row2 col1\" >0.647969</td>\n",
       "                        <td id=\"T_88b7ab94_92cc_11ed_a48b_d45d646c3535row2_col2\" class=\"data row2 col2\" >0.651325</td>\n",
       "                        <td id=\"T_88b7ab94_92cc_11ed_a48b_d45d646c3535row2_col3\" class=\"data row2 col3\" >0.670989</td>\n",
       "                        <td id=\"T_88b7ab94_92cc_11ed_a48b_d45d646c3535row2_col4\" class=\"data row2 col4\" >0.524562</td>\n",
       "            </tr>\n",
       "            <tr>\n",
       "                        <th id=\"T_88b7ab94_92cc_11ed_a48b_d45d646c3535level0_row3\" class=\"row_heading level0 row3\" >net_30</th>\n",
       "                        <td id=\"T_88b7ab94_92cc_11ed_a48b_d45d646c3535row3_col0\" class=\"data row3 col0\" >0.449551</td>\n",
       "                        <td id=\"T_88b7ab94_92cc_11ed_a48b_d45d646c3535row3_col1\" class=\"data row3 col1\" >0.447728</td>\n",
       "                        <td id=\"T_88b7ab94_92cc_11ed_a48b_d45d646c3535row3_col2\" class=\"data row3 col2\" >0.487714</td>\n",
       "                        <td id=\"T_88b7ab94_92cc_11ed_a48b_d45d646c3535row3_col3\" class=\"data row3 col3\" >0.521333</td>\n",
       "                        <td id=\"T_88b7ab94_92cc_11ed_a48b_d45d646c3535row3_col4\" class=\"data row3 col4\" >0.440530</td>\n",
       "            </tr>\n",
       "            <tr>\n",
       "                        <th id=\"T_88b7ab94_92cc_11ed_a48b_d45d646c3535level0_row4\" class=\"row_heading level0 row4\" >net_40</th>\n",
       "                        <td id=\"T_88b7ab94_92cc_11ed_a48b_d45d646c3535row4_col0\" class=\"data row4 col0\" >0.373296</td>\n",
       "                        <td id=\"T_88b7ab94_92cc_11ed_a48b_d45d646c3535row4_col1\" class=\"data row4 col1\" >0.356098</td>\n",
       "                        <td id=\"T_88b7ab94_92cc_11ed_a48b_d45d646c3535row4_col2\" class=\"data row4 col2\" >0.381809</td>\n",
       "                        <td id=\"T_88b7ab94_92cc_11ed_a48b_d45d646c3535row4_col3\" class=\"data row4 col3\" >0.396272</td>\n",
       "                        <td id=\"T_88b7ab94_92cc_11ed_a48b_d45d646c3535row4_col4\" class=\"data row4 col4\" >0.361370</td>\n",
       "            </tr>\n",
       "    </tbody></table>"
      ],
      "text/plain": [
       "<pandas.io.formats.style.Styler at 0x1dd5bc15128>"
      ]
     },
     "execution_count": 149,
     "metadata": {},
     "output_type": "execute_result"
    }
   ],
   "source": [
    "test_0_pivot = test_0.pivot(index=\"net_test\", columns=\"net_train\", values=\"nmi\")\n",
    "test_0_pivot.style.highlight_max(color = 'lightgreen', axis = 1)"
   ]
  },
  {
   "cell_type": "code",
   "execution_count": 150,
   "id": "f0c84f51-810e-41f0-8afd-92e1df0a2261",
   "metadata": {},
   "outputs": [
    {
     "data": {
      "text/html": [
       "<style  type=\"text/css\" >\n",
       "#T_8908af42_92cc_11ed_bbbd_d45d646c3535row0_col2,#T_8908af42_92cc_11ed_bbbd_d45d646c3535row1_col0,#T_8908af42_92cc_11ed_bbbd_d45d646c3535row2_col0,#T_8908af42_92cc_11ed_bbbd_d45d646c3535row3_col2,#T_8908af42_92cc_11ed_bbbd_d45d646c3535row4_col3{\n",
       "            background-color:  lightgreen;\n",
       "        }</style><table id=\"T_8908af42_92cc_11ed_bbbd_d45d646c3535\" ><thead>    <tr>        <th class=\"index_name level0\" >net_train</th>        <th class=\"col_heading level0 col0\" >net_0</th>        <th class=\"col_heading level0 col1\" >net_10</th>        <th class=\"col_heading level0 col2\" >net_20</th>        <th class=\"col_heading level0 col3\" >net_30</th>        <th class=\"col_heading level0 col4\" >net_40</th>    </tr>    <tr>        <th class=\"index_name level0\" >net_test</th>        <th class=\"blank\" ></th>        <th class=\"blank\" ></th>        <th class=\"blank\" ></th>        <th class=\"blank\" ></th>        <th class=\"blank\" ></th>    </tr></thead><tbody>\n",
       "                <tr>\n",
       "                        <th id=\"T_8908af42_92cc_11ed_bbbd_d45d646c3535level0_row0\" class=\"row_heading level0 row0\" >net_0</th>\n",
       "                        <td id=\"T_8908af42_92cc_11ed_bbbd_d45d646c3535row0_col0\" class=\"data row0 col0\" >0.757880</td>\n",
       "                        <td id=\"T_8908af42_92cc_11ed_bbbd_d45d646c3535row0_col1\" class=\"data row0 col1\" >0.785520</td>\n",
       "                        <td id=\"T_8908af42_92cc_11ed_bbbd_d45d646c3535row0_col2\" class=\"data row0 col2\" >0.789281</td>\n",
       "                        <td id=\"T_8908af42_92cc_11ed_bbbd_d45d646c3535row0_col3\" class=\"data row0 col3\" >0.781627</td>\n",
       "                        <td id=\"T_8908af42_92cc_11ed_bbbd_d45d646c3535row0_col4\" class=\"data row0 col4\" >0.573248</td>\n",
       "            </tr>\n",
       "            <tr>\n",
       "                        <th id=\"T_8908af42_92cc_11ed_bbbd_d45d646c3535level0_row1\" class=\"row_heading level0 row1\" >net_10</th>\n",
       "                        <td id=\"T_8908af42_92cc_11ed_bbbd_d45d646c3535row1_col0\" class=\"data row1 col0\" >0.666372</td>\n",
       "                        <td id=\"T_8908af42_92cc_11ed_bbbd_d45d646c3535row1_col1\" class=\"data row1 col1\" >0.653949</td>\n",
       "                        <td id=\"T_8908af42_92cc_11ed_bbbd_d45d646c3535row1_col2\" class=\"data row1 col2\" >0.653742</td>\n",
       "                        <td id=\"T_8908af42_92cc_11ed_bbbd_d45d646c3535row1_col3\" class=\"data row1 col3\" >0.654690</td>\n",
       "                        <td id=\"T_8908af42_92cc_11ed_bbbd_d45d646c3535row1_col4\" class=\"data row1 col4\" >0.484123</td>\n",
       "            </tr>\n",
       "            <tr>\n",
       "                        <th id=\"T_8908af42_92cc_11ed_bbbd_d45d646c3535level0_row2\" class=\"row_heading level0 row2\" >net_20</th>\n",
       "                        <td id=\"T_8908af42_92cc_11ed_bbbd_d45d646c3535row2_col0\" class=\"data row2 col0\" >0.549265</td>\n",
       "                        <td id=\"T_8908af42_92cc_11ed_bbbd_d45d646c3535row2_col1\" class=\"data row2 col1\" >0.547341</td>\n",
       "                        <td id=\"T_8908af42_92cc_11ed_bbbd_d45d646c3535row2_col2\" class=\"data row2 col2\" >0.537926</td>\n",
       "                        <td id=\"T_8908af42_92cc_11ed_bbbd_d45d646c3535row2_col3\" class=\"data row2 col3\" >0.545541</td>\n",
       "                        <td id=\"T_8908af42_92cc_11ed_bbbd_d45d646c3535row2_col4\" class=\"data row2 col4\" >0.430018</td>\n",
       "            </tr>\n",
       "            <tr>\n",
       "                        <th id=\"T_8908af42_92cc_11ed_bbbd_d45d646c3535level0_row3\" class=\"row_heading level0 row3\" >net_30</th>\n",
       "                        <td id=\"T_8908af42_92cc_11ed_bbbd_d45d646c3535row3_col0\" class=\"data row3 col0\" >0.511942</td>\n",
       "                        <td id=\"T_8908af42_92cc_11ed_bbbd_d45d646c3535row3_col1\" class=\"data row3 col1\" >0.500484</td>\n",
       "                        <td id=\"T_8908af42_92cc_11ed_bbbd_d45d646c3535row3_col2\" class=\"data row3 col2\" >0.535942</td>\n",
       "                        <td id=\"T_8908af42_92cc_11ed_bbbd_d45d646c3535row3_col3\" class=\"data row3 col3\" >0.513264</td>\n",
       "                        <td id=\"T_8908af42_92cc_11ed_bbbd_d45d646c3535row3_col4\" class=\"data row3 col4\" >0.393330</td>\n",
       "            </tr>\n",
       "            <tr>\n",
       "                        <th id=\"T_8908af42_92cc_11ed_bbbd_d45d646c3535level0_row4\" class=\"row_heading level0 row4\" >net_40</th>\n",
       "                        <td id=\"T_8908af42_92cc_11ed_bbbd_d45d646c3535row4_col0\" class=\"data row4 col0\" >0.437120</td>\n",
       "                        <td id=\"T_8908af42_92cc_11ed_bbbd_d45d646c3535row4_col1\" class=\"data row4 col1\" >0.425461</td>\n",
       "                        <td id=\"T_8908af42_92cc_11ed_bbbd_d45d646c3535row4_col2\" class=\"data row4 col2\" >0.441913</td>\n",
       "                        <td id=\"T_8908af42_92cc_11ed_bbbd_d45d646c3535row4_col3\" class=\"data row4 col3\" >0.450130</td>\n",
       "                        <td id=\"T_8908af42_92cc_11ed_bbbd_d45d646c3535row4_col4\" class=\"data row4 col4\" >0.378830</td>\n",
       "            </tr>\n",
       "    </tbody></table>"
      ],
      "text/plain": [
       "<pandas.io.formats.style.Styler at 0x1dd6b23e550>"
      ]
     },
     "execution_count": 150,
     "metadata": {},
     "output_type": "execute_result"
    }
   ],
   "source": [
    "test_2_pivot = test_2.pivot(index=\"net_test\", columns=\"net_train\", values=\"nmi\")\n",
    "test_2_pivot.style.highlight_max(color = 'lightgreen', axis = 1)"
   ]
  },
  {
   "cell_type": "code",
   "execution_count": null,
   "id": "675df0f6-d0f5-4cda-93ec-b91fa91f7511",
   "metadata": {},
   "outputs": [],
   "source": []
  }
 ],
 "metadata": {
  "kernelspec": {
   "display_name": "Python 3",
   "language": "python",
   "name": "python3"
  },
  "language_info": {
   "codemirror_mode": {
    "name": "ipython",
    "version": 3
   },
   "file_extension": ".py",
   "mimetype": "text/x-python",
   "name": "python",
   "nbconvert_exporter": "python",
   "pygments_lexer": "ipython3",
   "version": "3.6.13"
  }
 },
 "nbformat": 4,
 "nbformat_minor": 5
}
